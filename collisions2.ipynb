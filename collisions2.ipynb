{
 "cells": [
  {
   "cell_type": "code",
   "execution_count": 2,
   "metadata": {},
   "outputs": [],
   "source": [
    "import pandas as pd\n",
    "\n",
    "from altair import Chart\n",
    "from math import factorial\n",
    "import random\n",
    "\n"
   ]
  },
  {
   "cell_type": "markdown",
   "metadata": {},
   "source": [
    "\n",
    "$$ P(c_{r+1}) = \\frac{ (n-1)!^2(r-1)!r! }{ (r+n-1)! } \\sum_{k=1}^{r} \\frac{1}{(k-1)!^2(n-k)!(r-k)!}$$"
   ]
  },
  {
   "cell_type": "code",
   "execution_count": 10,
   "metadata": {
    "collapsed": true
   },
   "outputs": [],
   "source": [
    "def collision_probability(r, n):\n",
    "    def outer_denominator():\n",
    "        return factorial(r + n - 1)\n",
    "    \n",
    "    def outer_numerator():\n",
    "        return factorial(n-1)**2 * factorial(r-1) * factorial(r)\n",
    "\n",
    "    def inner_denominator(k):\n",
    "        return factorial(k - 1)**2 * factorial(n-k) * factorial(r-k)\n",
    "    \n",
    "    summation = sum([1.0 / inner_denominator(k) for k in range(1,r)])\n",
    "    \n",
    "    outer = float(outer_numerator())/outer_denominator()\n",
    "    \n",
    "    return outer * summation\n",
    "        "
   ]
  },
  {
   "cell_type": "code",
   "execution_count": 11,
   "metadata": {
    "collapsed": true
   },
   "outputs": [],
   "source": [
    "def theoretical_collision_data(r, n):\n",
    "    x = range(1, r)\n",
    "    y = [collision_probability(a, n) for a in x]\n",
    "    return x, y"
   ]
  },
  {
   "cell_type": "code",
   "execution_count": 12,
   "metadata": {},
   "outputs": [],
   "source": [
    "number_insertions, probability = theoretical_collision_data(40, 50)\n",
    "theoretical_collisions_frame = pd.DataFrame({\"number_insertions\": number_insertions, \"probability\": probability})"
   ]
  },
  {
   "cell_type": "code",
   "execution_count": 13,
   "metadata": {},
   "outputs": [
    {
     "name": "stdout",
     "output_type": "stream",
     "text": [
      "    number_insertions  probability\n",
      "0                   1     0.000000\n",
      "1                   2     0.000784\n",
      "2                   3     0.004480\n",
      "3                   4     0.012554\n",
      "4                   5     0.025596\n",
      "5                   6     0.043313\n",
      "6                   7     0.064703\n",
      "7                   8     0.088366\n",
      "8                   9     0.112823\n",
      "9                  10     0.136792\n",
      "10                 11     0.159354\n",
      "11                 12     0.179996\n",
      "12                 13     0.198572\n",
      "13                 14     0.215199\n",
      "14                 15     0.230142\n",
      "15                 16     0.243723\n",
      "16                 17     0.256245\n",
      "17                 18     0.267963\n",
      "18                 19     0.279067\n",
      "19                 20     0.289692\n",
      "20                 21     0.299927\n",
      "21                 22     0.309828\n",
      "22                 23     0.319432\n",
      "23                 24     0.328762\n",
      "24                 25     0.337836\n",
      "25                 26     0.346666\n",
      "26                 27     0.355263\n",
      "27                 28     0.363636\n",
      "28                 29     0.371795\n",
      "29                 30     0.379747\n",
      "30                 31     0.387500\n",
      "31                 32     0.395062\n",
      "32                 33     0.402439\n",
      "33                 34     0.409639\n",
      "34                 35     0.416667\n",
      "35                 36     0.423529\n",
      "36                 37     0.430233\n",
      "37                 38     0.436782\n",
      "38                 39     0.443182\n"
     ]
    }
   ],
   "source": [
    "print theoretical_collisions_frame"
   ]
  },
  {
   "cell_type": "code",
   "execution_count": 14,
   "metadata": {
    "collapsed": true
   },
   "outputs": [],
   "source": [
    "chart = Chart(theoretical_collisions_frame)"
   ]
  },
  {
   "cell_type": "code",
   "execution_count": 15,
   "metadata": {},
   "outputs": [
    {
     "data": {
      "text/html": [
       "<div class=\"vega-embed\" id=\"f8ab60ef-8970-4260-9435-2851e5abb127\"></div>\n",
       "\n",
       "<style>\n",
       ".vega-embed svg, .vega-embed canvas {\n",
       "  border: 1px dotted gray;\n",
       "}\n",
       "\n",
       ".vega-embed .vega-actions a {\n",
       "  margin-right: 6px;\n",
       "}\n",
       "</style>\n"
      ]
     },
     "metadata": {
      "jupyter-vega": "#f8ab60ef-8970-4260-9435-2851e5abb127"
     },
     "output_type": "display_data"
    },
    {
     "data": {
      "application/javascript": [
       "var spec = {\"data\": {\"values\": [{\"number_insertions\": 1, \"probability\": 0.0}, {\"number_insertions\": 2, \"probability\": 0.0007843137254901962}, {\"number_insertions\": 3, \"probability\": 0.004479638009049774}, {\"number_insertions\": 4, \"probability\": 0.012553572953129002}, {\"number_insertions\": 5, \"probability\": 0.02559644080176822}, {\"number_insertions\": 6, \"probability\": 0.04331286915082697}, {\"number_insertions\": 7, \"probability\": 0.06470346338825807}, {\"number_insertions\": 8, \"probability\": 0.08836589324701949}, {\"number_insertions\": 9, \"probability\": 0.11282257773367672}, {\"number_insertions\": 10, \"probability\": 0.1367920286546799}, {\"number_insertions\": 11, \"probability\": 0.15935370236936414}, {\"number_insertions\": 12, \"probability\": 0.17999632296402746}, {\"number_insertions\": 13, \"probability\": 0.19857238666045313}, {\"number_insertions\": 14, \"probability\": 0.21519852633004669}, {\"number_insertions\": 15, \"probability\": 0.23014196899355494}, {\"number_insertions\": 16, \"probability\": 0.2437225668065546}, {\"number_insertions\": 17, \"probability\": 0.2562450005087742}, {\"number_insertions\": 18, \"probability\": 0.2679627131713888}, {\"number_insertions\": 19, \"probability\": 0.2790670310670873}, {\"number_insertions\": 20, \"probability\": 0.28969204053695435}, {\"number_insertions\": 21, \"probability\": 0.2999266356329337}, {\"number_insertions\": 22, \"probability\": 0.3098277622627845}, {\"number_insertions\": 23, \"probability\": 0.3194316812642584}, {\"number_insertions\": 24, \"probability\": 0.32876219741467505}, {\"number_insertions\": 25, \"probability\": 0.33783603501269854}, {\"number_insertions\": 26, \"probability\": 0.34666604168728493}, {\"number_insertions\": 27, \"probability\": 0.35526295294198407}, {\"number_insertions\": 28, \"probability\": 0.3636363001493156}, {\"number_insertions\": 29, \"probability\": 0.37179485324874695}, {\"number_insertions\": 30, \"probability\": 0.379746830343056}, {\"number_insertions\": 31, \"probability\": 0.3874999986825046}, {\"number_insertions\": 32, \"probability\": 0.39506172807605044}, {\"number_insertions\": 33, \"probability\": 0.40243902431802864}, {\"number_insertions\": 34, \"probability\": 0.40963855420162815}, {\"number_insertions\": 35, \"probability\": 0.4166666666636785}, {\"number_insertions\": 36, \"probability\": 0.4235294117641634}, {\"number_insertions\": 37, \"probability\": 0.43023255813944417}, {\"number_insertions\": 38, \"probability\": 0.43678160919538833}, {\"number_insertions\": 39, \"probability\": 0.44318181818181623}]}, \"encoding\": {\"y\": {\"field\": \"probability\", \"type\": \"quantitative\"}, \"x\": {\"field\": \"number_insertions\", \"type\": \"quantitative\"}}, \"config\": {\"cell\": {\"width\": 500, \"height\": 350}}, \"mark\": \"point\"};\n",
       "var selector = \"#f8ab60ef-8970-4260-9435-2851e5abb127\";\n",
       "var type = \"vega-lite\";\n",
       "\n",
       "var output_area = this;\n",
       "require(['nbextensions/jupyter-vega/index'], function(vega) {\n",
       "  vega.render(selector, spec, type, output_area);\n",
       "}, function (err) {\n",
       "  if (err.requireType !== 'scripterror') {\n",
       "    throw(err);\n",
       "  }\n",
       "});\n"
      ]
     },
     "metadata": {
      "jupyter-vega": "#f8ab60ef-8970-4260-9435-2851e5abb127"
     },
     "output_type": "display_data"
    },
    {
     "data": {
      "image/png": "[encoded data removed]"
     },
     "metadata": {
      "jupyter-vega": "#f8ab60ef-8970-4260-9435-2851e5abb127"
     },
     "output_type": "display_data"
    }
   ],
   "source": [
    "chart.mark_line().mark_point().encode(x='number_insertions', y='probability')"
   ]
  },
  {
   "cell_type": "markdown",
   "metadata": {},
   "source": [
    "In order to confirm our formula, we test the number of collisions empirically."
   ]
  },
  {
   "cell_type": "code",
   "execution_count": 16,
   "metadata": {
    "collapsed": true
   },
   "outputs": [],
   "source": [
    "class RandomHasher():\n",
    "    \"\"\"\n",
    "    Pretends to uniformly insert into a hashtable for the purpose of counting collisions.\n",
    "    \"\"\"\n",
    "    def __init__(self, size):\n",
    "        self.cell_is_full = [False] * size # will be set to true if the \"hash function\" has picked this slot\n",
    "        self.number_collisions = 0\n",
    "    \n",
    "    def insert_one(self):\n",
    "        insert_position = random.randint(0, len(self.cell_is_full)-1)\n",
    "        has_collided = self.cell_is_full[insert_position]\n",
    "        self.cell_is_full[insert_position] = True\n",
    "        if has_collided:\n",
    "            self.number_collisions += 1\n",
    "        return has_collided"
   ]
  },
  {
   "cell_type": "code",
   "execution_count": 17,
   "metadata": {
    "collapsed": true
   },
   "outputs": [],
   "source": [
    "def empirical_collision_data(num_insertions, table_size, population_size):\n",
    "    # array to store how many collisions at each step (array of arrays) \n",
    "    collisions_at_step = [0] * (num_insertions - 1)\n",
    "    \n",
    "    for sample in range(population_size):\n",
    "        hasher = RandomHasher(table_size)\n",
    "        hasher.insert_one() #no collisions at step zero\n",
    "        for step in range(num_insertions - 1):\n",
    "            if hasher.insert_one():\n",
    "                collisions_at_step[step] += 1\n",
    "    \n",
    "    x = range(1, num_insertions)\n",
    "    y = [collisions / float(population_size) for collisions in collisions_at_step]\n",
    "    return x, y\n",
    "    "
   ]
  },
  {
   "cell_type": "code",
   "execution_count": 18,
   "metadata": {
    "collapsed": true
   },
   "outputs": [],
   "source": [
    "number_insertions, probability = empirical_collision_data(40, 50, 100000)\n",
    "\n",
    "empirical_collisions_frame = pd.DataFrame({\"number_insertions\": number_insertions, \"probability\": probability})"
   ]
  },
  {
   "cell_type": "code",
   "execution_count": 19,
   "metadata": {},
   "outputs": [
    {
     "data": {
      "text/html": [
       "<div class=\"vega-embed\" id=\"2b3240f6-3820-406b-af62-8f4d69716ef9\"></div>\n",
       "\n",
       "<style>\n",
       ".vega-embed svg, .vega-embed canvas {\n",
       "  border: 1px dotted gray;\n",
       "}\n",
       "\n",
       ".vega-embed .vega-actions a {\n",
       "  margin-right: 6px;\n",
       "}\n",
       "</style>\n"
      ]
     },
     "metadata": {
      "jupyter-vega": "#2b3240f6-3820-406b-af62-8f4d69716ef9"
     },
     "output_type": "display_data"
    },
    {
     "data": {
      "application/javascript": [
       "var spec = {\"data\": {\"values\": [{\"number_insertions\": 1, \"probability\": 0.01997}, {\"number_insertions\": 2, \"probability\": 0.03911}, {\"number_insertions\": 3, \"probability\": 0.05864}, {\"number_insertions\": 4, \"probability\": 0.07661}, {\"number_insertions\": 5, \"probability\": 0.09559}, {\"number_insertions\": 6, \"probability\": 0.11499}, {\"number_insertions\": 7, \"probability\": 0.13176}, {\"number_insertions\": 8, \"probability\": 0.14836}, {\"number_insertions\": 9, \"probability\": 0.16654}, {\"number_insertions\": 10, \"probability\": 0.18187}, {\"number_insertions\": 11, \"probability\": 0.19956}, {\"number_insertions\": 12, \"probability\": 0.21579}, {\"number_insertions\": 13, \"probability\": 0.23088}, {\"number_insertions\": 14, \"probability\": 0.24416}, {\"number_insertions\": 15, \"probability\": 0.26237}, {\"number_insertions\": 16, \"probability\": 0.27572}, {\"number_insertions\": 17, \"probability\": 0.29195}, {\"number_insertions\": 18, \"probability\": 0.3056}, {\"number_insertions\": 19, \"probability\": 0.31839}, {\"number_insertions\": 20, \"probability\": 0.33315}, {\"number_insertions\": 21, \"probability\": 0.34446}, {\"number_insertions\": 22, \"probability\": 0.35866}, {\"number_insertions\": 23, \"probability\": 0.37159}, {\"number_insertions\": 24, \"probability\": 0.38381}, {\"number_insertions\": 25, \"probability\": 0.39585}, {\"number_insertions\": 26, \"probability\": 0.40696}, {\"number_insertions\": 27, \"probability\": 0.42297}, {\"number_insertions\": 28, \"probability\": 0.43022}, {\"number_insertions\": 29, \"probability\": 0.4433}, {\"number_insertions\": 30, \"probability\": 0.45456}, {\"number_insertions\": 31, \"probability\": 0.46417}, {\"number_insertions\": 32, \"probability\": 0.47781}, {\"number_insertions\": 33, \"probability\": 0.48563}, {\"number_insertions\": 34, \"probability\": 0.4966}, {\"number_insertions\": 35, \"probability\": 0.50474}, {\"number_insertions\": 36, \"probability\": 0.51682}, {\"number_insertions\": 37, \"probability\": 0.52512}, {\"number_insertions\": 38, \"probability\": 0.53739}, {\"number_insertions\": 39, \"probability\": 0.54507}]}, \"encoding\": {\"y\": {\"field\": \"probability\", \"type\": \"quantitative\"}, \"x\": {\"field\": \"number_insertions\", \"type\": \"quantitative\"}}, \"config\": {\"cell\": {\"width\": 500, \"height\": 350}}, \"mark\": \"point\"};\n",
       "var selector = \"#2b3240f6-3820-406b-af62-8f4d69716ef9\";\n",
       "var type = \"vega-lite\";\n",
       "\n",
       "var output_area = this;\n",
       "require(['nbextensions/jupyter-vega/index'], function(vega) {\n",
       "  vega.render(selector, spec, type, output_area);\n",
       "}, function (err) {\n",
       "  if (err.requireType !== 'scripterror') {\n",
       "    throw(err);\n",
       "  }\n",
       "});\n"
      ]
     },
     "metadata": {
      "jupyter-vega": "#2b3240f6-3820-406b-af62-8f4d69716ef9"
     },
     "output_type": "display_data"
    },
    {
     "data": {
      "image/png": "[encoded data removed]"
     },
     "metadata": {
      "jupyter-vega": "#2b3240f6-3820-406b-af62-8f4d69716ef9"
     },
     "output_type": "display_data"
    }
   ],
   "source": [
    "chart = Chart(empirical_collisions_frame)\n",
    "chart.mark_line().mark_point().encode(x='number_insertions', y='probability')"
   ]
  },
  {
   "cell_type": "code",
   "execution_count": null,
   "metadata": {
    "collapsed": true
   },
   "outputs": [],
   "source": []
  },
  {
   "cell_type": "code",
   "execution_count": 20,
   "metadata": {
    "collapsed": true
   },
   "outputs": [],
   "source": [
    "theoretical_collisions_frame['Key'] = 'theoretical'\n",
    "empirical_collisions_frame['Key'] = 'empirical'\n",
    "\n",
    "compare_collisions = pd.concat([theoretical_collisions_frame, empirical_collisions_frame])"
   ]
  },
  {
   "cell_type": "code",
   "execution_count": 21,
   "metadata": {},
   "outputs": [
    {
     "name": "stdout",
     "output_type": "stream",
     "text": [
      "<class 'pandas.core.frame.DataFrame'>\n",
      "Int64Index: 78 entries, 0 to 38\n",
      "Data columns (total 3 columns):\n",
      "number_insertions    78 non-null int64\n",
      "probability          78 non-null float64\n",
      "Key                  78 non-null object\n",
      "dtypes: float64(1), int64(1), object(1)\n",
      "memory usage: 2.4+ KB\n"
     ]
    }
   ],
   "source": [
    "\n",
    "\n",
    "compare_collisions.info()"
   ]
  },
  {
   "cell_type": "code",
   "execution_count": 22,
   "metadata": {},
   "outputs": [
    {
     "data": {
      "text/html": [
       "<div class=\"vega-embed\" id=\"d81f3f3d-a09d-432e-a57b-11c10cdb79c9\"></div>\n",
       "\n",
       "<style>\n",
       ".vega-embed svg, .vega-embed canvas {\n",
       "  border: 1px dotted gray;\n",
       "}\n",
       "\n",
       ".vega-embed .vega-actions a {\n",
       "  margin-right: 6px;\n",
       "}\n",
       "</style>\n"
      ]
     },
     "metadata": {
      "jupyter-vega": "#d81f3f3d-a09d-432e-a57b-11c10cdb79c9"
     },
     "output_type": "display_data"
    },
    {
     "data": {
      "application/javascript": [
       "var spec = {\"data\": {\"values\": [{\"number_insertions\": 1, \"probability\": 0.0, \"Key\": \"theoretical\"}, {\"number_insertions\": 2, \"probability\": 0.0007843137254901962, \"Key\": \"theoretical\"}, {\"number_insertions\": 3, \"probability\": 0.004479638009049774, \"Key\": \"theoretical\"}, {\"number_insertions\": 4, \"probability\": 0.012553572953129002, \"Key\": \"theoretical\"}, {\"number_insertions\": 5, \"probability\": 0.02559644080176822, \"Key\": \"theoretical\"}, {\"number_insertions\": 6, \"probability\": 0.04331286915082697, \"Key\": \"theoretical\"}, {\"number_insertions\": 7, \"probability\": 0.06470346338825807, \"Key\": \"theoretical\"}, {\"number_insertions\": 8, \"probability\": 0.08836589324701949, \"Key\": \"theoretical\"}, {\"number_insertions\": 9, \"probability\": 0.11282257773367672, \"Key\": \"theoretical\"}, {\"number_insertions\": 10, \"probability\": 0.1367920286546799, \"Key\": \"theoretical\"}, {\"number_insertions\": 11, \"probability\": 0.15935370236936414, \"Key\": \"theoretical\"}, {\"number_insertions\": 12, \"probability\": 0.17999632296402746, \"Key\": \"theoretical\"}, {\"number_insertions\": 13, \"probability\": 0.19857238666045313, \"Key\": \"theoretical\"}, {\"number_insertions\": 14, \"probability\": 0.21519852633004669, \"Key\": \"theoretical\"}, {\"number_insertions\": 15, \"probability\": 0.23014196899355494, \"Key\": \"theoretical\"}, {\"number_insertions\": 16, \"probability\": 0.2437225668065546, \"Key\": \"theoretical\"}, {\"number_insertions\": 17, \"probability\": 0.2562450005087742, \"Key\": \"theoretical\"}, {\"number_insertions\": 18, \"probability\": 0.2679627131713888, \"Key\": \"theoretical\"}, {\"number_insertions\": 19, \"probability\": 0.2790670310670873, \"Key\": \"theoretical\"}, {\"number_insertions\": 20, \"probability\": 0.28969204053695435, \"Key\": \"theoretical\"}, {\"number_insertions\": 21, \"probability\": 0.2999266356329337, \"Key\": \"theoretical\"}, {\"number_insertions\": 22, \"probability\": 0.3098277622627845, \"Key\": \"theoretical\"}, {\"number_insertions\": 23, \"probability\": 0.3194316812642584, \"Key\": \"theoretical\"}, {\"number_insertions\": 24, \"probability\": 0.32876219741467505, \"Key\": \"theoretical\"}, {\"number_insertions\": 25, \"probability\": 0.33783603501269854, \"Key\": \"theoretical\"}, {\"number_insertions\": 26, \"probability\": 0.34666604168728493, \"Key\": \"theoretical\"}, {\"number_insertions\": 27, \"probability\": 0.35526295294198407, \"Key\": \"theoretical\"}, {\"number_insertions\": 28, \"probability\": 0.3636363001493156, \"Key\": \"theoretical\"}, {\"number_insertions\": 29, \"probability\": 0.37179485324874695, \"Key\": \"theoretical\"}, {\"number_insertions\": 30, \"probability\": 0.379746830343056, \"Key\": \"theoretical\"}, {\"number_insertions\": 31, \"probability\": 0.3874999986825046, \"Key\": \"theoretical\"}, {\"number_insertions\": 32, \"probability\": 0.39506172807605044, \"Key\": \"theoretical\"}, {\"number_insertions\": 33, \"probability\": 0.40243902431802864, \"Key\": \"theoretical\"}, {\"number_insertions\": 34, \"probability\": 0.40963855420162815, \"Key\": \"theoretical\"}, {\"number_insertions\": 35, \"probability\": 0.4166666666636785, \"Key\": \"theoretical\"}, {\"number_insertions\": 36, \"probability\": 0.4235294117641634, \"Key\": \"theoretical\"}, {\"number_insertions\": 37, \"probability\": 0.43023255813944417, \"Key\": \"theoretical\"}, {\"number_insertions\": 38, \"probability\": 0.43678160919538833, \"Key\": \"theoretical\"}, {\"number_insertions\": 39, \"probability\": 0.44318181818181623, \"Key\": \"theoretical\"}, {\"number_insertions\": 1, \"probability\": 0.01997, \"Key\": \"empirical\"}, {\"number_insertions\": 2, \"probability\": 0.03911, \"Key\": \"empirical\"}, {\"number_insertions\": 3, \"probability\": 0.05864, \"Key\": \"empirical\"}, {\"number_insertions\": 4, \"probability\": 0.07661, \"Key\": \"empirical\"}, {\"number_insertions\": 5, \"probability\": 0.09559, \"Key\": \"empirical\"}, {\"number_insertions\": 6, \"probability\": 0.11499, \"Key\": \"empirical\"}, {\"number_insertions\": 7, \"probability\": 0.13176, \"Key\": \"empirical\"}, {\"number_insertions\": 8, \"probability\": 0.14836, \"Key\": \"empirical\"}, {\"number_insertions\": 9, \"probability\": 0.16654, \"Key\": \"empirical\"}, {\"number_insertions\": 10, \"probability\": 0.18187, \"Key\": \"empirical\"}, {\"number_insertions\": 11, \"probability\": 0.19956, \"Key\": \"empirical\"}, {\"number_insertions\": 12, \"probability\": 0.21579, \"Key\": \"empirical\"}, {\"number_insertions\": 13, \"probability\": 0.23088, \"Key\": \"empirical\"}, {\"number_insertions\": 14, \"probability\": 0.24416, \"Key\": \"empirical\"}, {\"number_insertions\": 15, \"probability\": 0.26237, \"Key\": \"empirical\"}, {\"number_insertions\": 16, \"probability\": 0.27572, \"Key\": \"empirical\"}, {\"number_insertions\": 17, \"probability\": 0.29195, \"Key\": \"empirical\"}, {\"number_insertions\": 18, \"probability\": 0.3056, \"Key\": \"empirical\"}, {\"number_insertions\": 19, \"probability\": 0.31839, \"Key\": \"empirical\"}, {\"number_insertions\": 20, \"probability\": 0.33315, \"Key\": \"empirical\"}, {\"number_insertions\": 21, \"probability\": 0.34446, \"Key\": \"empirical\"}, {\"number_insertions\": 22, \"probability\": 0.35866, \"Key\": \"empirical\"}, {\"number_insertions\": 23, \"probability\": 0.37159, \"Key\": \"empirical\"}, {\"number_insertions\": 24, \"probability\": 0.38381, \"Key\": \"empirical\"}, {\"number_insertions\": 25, \"probability\": 0.39585, \"Key\": \"empirical\"}, {\"number_insertions\": 26, \"probability\": 0.40696, \"Key\": \"empirical\"}, {\"number_insertions\": 27, \"probability\": 0.42297, \"Key\": \"empirical\"}, {\"number_insertions\": 28, \"probability\": 0.43022, \"Key\": \"empirical\"}, {\"number_insertions\": 29, \"probability\": 0.4433, \"Key\": \"empirical\"}, {\"number_insertions\": 30, \"probability\": 0.45456, \"Key\": \"empirical\"}, {\"number_insertions\": 31, \"probability\": 0.46417, \"Key\": \"empirical\"}, {\"number_insertions\": 32, \"probability\": 0.47781, \"Key\": \"empirical\"}, {\"number_insertions\": 33, \"probability\": 0.48563, \"Key\": \"empirical\"}, {\"number_insertions\": 34, \"probability\": 0.4966, \"Key\": \"empirical\"}, {\"number_insertions\": 35, \"probability\": 0.50474, \"Key\": \"empirical\"}, {\"number_insertions\": 36, \"probability\": 0.51682, \"Key\": \"empirical\"}, {\"number_insertions\": 37, \"probability\": 0.52512, \"Key\": \"empirical\"}, {\"number_insertions\": 38, \"probability\": 0.53739, \"Key\": \"empirical\"}, {\"number_insertions\": 39, \"probability\": 0.54507, \"Key\": \"empirical\"}]}, \"encoding\": {\"y\": {\"field\": \"probability\", \"type\": \"quantitative\"}, \"color\": {\"field\": \"Key\", \"type\": \"nominal\"}, \"x\": {\"field\": \"number_insertions\", \"type\": \"quantitative\"}}, \"config\": {\"cell\": {\"width\": 500, \"height\": 350}}, \"mark\": \"point\"};\n",
       "var selector = \"#d81f3f3d-a09d-432e-a57b-11c10cdb79c9\";\n",
       "var type = \"vega-lite\";\n",
       "\n",
       "var output_area = this;\n",
       "require(['nbextensions/jupyter-vega/index'], function(vega) {\n",
       "  vega.render(selector, spec, type, output_area);\n",
       "}, function (err) {\n",
       "  if (err.requireType !== 'scripterror') {\n",
       "    throw(err);\n",
       "  }\n",
       "});\n"
      ]
     },
     "metadata": {
      "jupyter-vega": "#d81f3f3d-a09d-432e-a57b-11c10cdb79c9"
     },
     "output_type": "display_data"
    },
    {
     "data": {
      "image/png": "[encoded data removed]"
     },
     "metadata": {
      "jupyter-vega": "#d81f3f3d-a09d-432e-a57b-11c10cdb79c9"
     },
     "output_type": "display_data"
    }
   ],
   "source": [
    "chart = Chart(compare_collisions)\n",
    "chart.mark_line().mark_point().encode(x='number_insertions', y='probability', color='Key')"
   ]
  },
  {
   "cell_type": "code",
   "execution_count": null,
   "metadata": {
    "collapsed": true
   },
   "outputs": [],
   "source": []
  },
  {
   "cell_type": "code",
   "execution_count": null,
   "metadata": {
    "collapsed": true
   },
   "outputs": [],
   "source": []
  },
  {
   "cell_type": "code",
   "execution_count": null,
   "metadata": {
    "collapsed": true
   },
   "outputs": [],
   "source": []
  }
 ],
 "metadata": {
  "kernelspec": {
   "display_name": "Python 2",
   "language": "python",
   "name": "python2"
  },
  "language_info": {
   "codemirror_mode": {
    "name": "ipython",
    "version": 2
   },
   "file_extension": ".py",
   "mimetype": "text/x-python",
   "name": "python",
   "nbconvert_exporter": "python",
   "pygments_lexer": "ipython2",
   "version": "2.7.12"
  }
 },
 "nbformat": 4,
 "nbformat_minor": 2
}
