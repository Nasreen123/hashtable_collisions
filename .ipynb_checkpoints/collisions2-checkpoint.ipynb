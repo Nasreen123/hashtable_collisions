{
 "cells": [
  {
   "cell_type": "code",
   "execution_count": 1,
   "metadata": {
    "collapsed": true
   },
   "outputs": [],
   "source": [
    "import pandas as pd\n",
    "\n",
    "from altair import Chart\n",
    "from math import factorial, reciprocal\n",
    "import random\n",
    "\n"
   ]
  },
  {
   "cell_type": "markdown",
   "metadata": {},
   "source": [
    "\n",
    "$$ P(c_{r+1}) = \\frac{ (n-1)!^2(r-1)!r! }{ (r+n-1)! } \\sum_{k=1}^{r} \\frac{1}{(k-1)!^2(n-k)!(r-k)!}$$"
   ]
  },
  {
   "cell_type": "code",
   "execution_count": 2,
   "metadata": {
    "collapsed": true
   },
   "outputs": [],
   "source": [
    "def collision_probability(r, n):\n",
    "    def outer_denominator():\n",
    "        return factorial(r + n - 1)\n",
    "    \n",
    "    def outer_numerator():\n",
    "        return factorial(n-1)**2 * factorial(r-1) * factorial(r)\n",
    "\n",
    "    def inner_denominator(k):\n",
    "        return factorial(k - 1)**2 * factorial(n-k) * factorial(r-k)\n",
    "    \n",
    "    summation = sum([1.0 / inner_denominator(k) for k in range(r)])\n",
    "    \n",
    "    outer = float(outer_numerator())/outer_denominator()\n",
    "    \n",
    "    return outer * summation\n",
    "        "
   ]
  },
  {
   "cell_type": "code",
   "execution_count": 3,
   "metadata": {
    "collapsed": true
   },
   "outputs": [],
   "source": [
    "def theoretical_collision_data(r, n):\n",
    "    x = range(1, r)\n",
    "    y = [collision_probability(a, n) for a in x]\n",
    "    return x, y"
   ]
  },
  {
   "cell_type": "code",
   "execution_count": 4,
   "metadata": {
    "collapsed": true
   },
   "outputs": [],
   "source": [
    "number_insertions, probability = theoretical_collision_data(40, 50)\n",
    "theoretical_collisions_frame = pd.DataFrame({\"number_insertions\": number_insertions, \"probability\": probability})"
   ]
  },
  {
   "cell_type": "code",
   "execution_count": 5,
   "metadata": {},
   "outputs": [
    {
     "name": "stdout",
     "output_type": "stream",
     "text": [
      "    number_insertions  probability\n",
      "0                   1     0.020000\n",
      "1                   2     0.039216\n",
      "2                   3     0.057692\n",
      "3                   4     0.075472\n",
      "4                   5     0.092593\n",
      "5                   6     0.109091\n",
      "6                   7     0.125000\n",
      "7                   8     0.140351\n",
      "8                   9     0.155172\n",
      "9                  10     0.169492\n",
      "10                 11     0.183333\n",
      "11                 12     0.196721\n",
      "12                 13     0.209677\n",
      "13                 14     0.222222\n",
      "14                 15     0.234375\n",
      "15                 16     0.246154\n",
      "16                 17     0.257576\n",
      "17                 18     0.268657\n",
      "18                 19     0.279412\n",
      "19                 20     0.289855\n",
      "20                 21     0.300000\n",
      "21                 22     0.309859\n",
      "22                 23     0.319444\n",
      "23                 24     0.328767\n",
      "24                 25     0.337838\n",
      "25                 26     0.346667\n",
      "26                 27     0.355263\n",
      "27                 28     0.363636\n",
      "28                 29     0.371795\n",
      "29                 30     0.379747\n",
      "30                 31     0.387500\n",
      "31                 32     0.395062\n",
      "32                 33     0.402439\n",
      "33                 34     0.409639\n",
      "34                 35     0.416667\n",
      "35                 36     0.423529\n",
      "36                 37     0.430233\n",
      "37                 38     0.436782\n",
      "38                 39     0.443182\n"
     ]
    }
   ],
   "source": [
    "print theoretical_collisions_frame"
   ]
  },
  {
   "cell_type": "code",
   "execution_count": 6,
   "metadata": {
    "collapsed": true
   },
   "outputs": [],
   "source": [
    "chart = Chart(theoretical_collisions_frame)"
   ]
  },
  {
   "cell_type": "code",
   "execution_count": 7,
   "metadata": {},
   "outputs": [
    {
     "data": {
      "text/html": [
       "<div class=\"vega-embed\" id=\"4809ab88-5f52-486e-9cd8-bfdb666ac191\"></div>\n",
       "\n",
       "<style>\n",
       ".vega-embed svg, .vega-embed canvas {\n",
       "  border: 1px dotted gray;\n",
       "}\n",
       "\n",
       ".vega-embed .vega-actions a {\n",
       "  margin-right: 6px;\n",
       "}\n",
       "</style>\n"
      ]
     },
     "metadata": {
      "jupyter-vega": "#4809ab88-5f52-486e-9cd8-bfdb666ac191"
     },
     "output_type": "display_data"
    },
    {
     "data": {
      "application/javascript": [
       "var spec = {\"data\": {\"values\": [{\"number_insertions\": 1, \"probability\": 0.02}, {\"number_insertions\": 2, \"probability\": 0.0392156862745098}, {\"number_insertions\": 3, \"probability\": 0.05769230769230769}, {\"number_insertions\": 4, \"probability\": 0.07547169811320754}, {\"number_insertions\": 5, \"probability\": 0.09259259259259262}, {\"number_insertions\": 6, \"probability\": 0.10909090909090911}, {\"number_insertions\": 7, \"probability\": 0.12499999999999999}, {\"number_insertions\": 8, \"probability\": 0.14035087719298245}, {\"number_insertions\": 9, \"probability\": 0.15517241379310348}, {\"number_insertions\": 10, \"probability\": 0.16949152542372878}, {\"number_insertions\": 11, \"probability\": 0.18333333333333332}, {\"number_insertions\": 12, \"probability\": 0.19672131147540986}, {\"number_insertions\": 13, \"probability\": 0.2096774193548387}, {\"number_insertions\": 14, \"probability\": 0.22222222222222224}, {\"number_insertions\": 15, \"probability\": 0.23437499999999997}, {\"number_insertions\": 16, \"probability\": 0.24615384615384614}, {\"number_insertions\": 17, \"probability\": 0.2575757575757575}, {\"number_insertions\": 18, \"probability\": 0.26865671641791045}, {\"number_insertions\": 19, \"probability\": 0.2794117647058823}, {\"number_insertions\": 20, \"probability\": 0.2898550724637681}, {\"number_insertions\": 21, \"probability\": 0.2999999999999999}, {\"number_insertions\": 22, \"probability\": 0.30985915492957744}, {\"number_insertions\": 23, \"probability\": 0.3194444444444446}, {\"number_insertions\": 24, \"probability\": 0.32876712328767127}, {\"number_insertions\": 25, \"probability\": 0.3378378378378379}, {\"number_insertions\": 26, \"probability\": 0.34666666666666673}, {\"number_insertions\": 27, \"probability\": 0.3552631578947369}, {\"number_insertions\": 28, \"probability\": 0.3636363636363638}, {\"number_insertions\": 29, \"probability\": 0.3717948717948719}, {\"number_insertions\": 30, \"probability\": 0.37974683544303794}, {\"number_insertions\": 31, \"probability\": 0.38749999999999984}, {\"number_insertions\": 32, \"probability\": 0.39506172839506165}, {\"number_insertions\": 33, \"probability\": 0.402439024390244}, {\"number_insertions\": 34, \"probability\": 0.40963855421686746}, {\"number_insertions\": 35, \"probability\": 0.4166666666666667}, {\"number_insertions\": 36, \"probability\": 0.42352941176470593}, {\"number_insertions\": 37, \"probability\": 0.43023255813953504}, {\"number_insertions\": 38, \"probability\": 0.4367816091954024}, {\"number_insertions\": 39, \"probability\": 0.44318181818181807}]}, \"encoding\": {\"y\": {\"field\": \"probability\", \"type\": \"quantitative\"}, \"x\": {\"field\": \"number_insertions\", \"type\": \"quantitative\"}}, \"config\": {\"cell\": {\"width\": 500, \"height\": 350}}, \"mark\": \"point\"};\n",
       "var selector = \"#4809ab88-5f52-486e-9cd8-bfdb666ac191\";\n",
       "var type = \"vega-lite\";\n",
       "\n",
       "var output_area = this;\n",
       "require(['nbextensions/jupyter-vega/index'], function(vega) {\n",
       "  vega.render(selector, spec, type, output_area);\n",
       "}, function (err) {\n",
       "  if (err.requireType !== 'scripterror') {\n",
       "    throw(err);\n",
       "  }\n",
       "});\n"
      ]
     },
     "metadata": {
      "jupyter-vega": "#4809ab88-5f52-486e-9cd8-bfdb666ac191"
     },
     "output_type": "display_data"
    },
    {
     "data": {
      "image/png": "[encoded data removed]"
     },
     "metadata": {
      "jupyter-vega": "#4809ab88-5f52-486e-9cd8-bfdb666ac191"
     },
     "output_type": "display_data"
    }
   ],
   "source": [
    "chart.mark_line().mark_point().encode(x='number_insertions', y='probability')"
   ]
  },
  {
   "cell_type": "markdown",
   "metadata": {},
   "source": [
    "In order to confirm our formula, we test the number of collisions empirically."
   ]
  },
  {
   "cell_type": "code",
   "execution_count": 8,
   "metadata": {
    "collapsed": true
   },
   "outputs": [],
   "source": [
    "class RandomHasher():\n",
    "    \"\"\"\n",
    "    Pretends to uniformly insert into a hashtable for the purpose of counting collisions.\n",
    "    \"\"\"\n",
    "    def __init__(self, size):\n",
    "        self.cell_is_full = [False] * size # will be set to true if the \"hash function\" has picked this slot\n",
    "        self.number_collisions = 0\n",
    "    \n",
    "    def insert_one(self):\n",
    "        insert_position = random.randint(0, len(self.cell_is_full)-1)\n",
    "        has_collided = self.cell_is_full[insert_position]\n",
    "        self.cell_is_full[insert_position] = True\n",
    "        if has_collided:\n",
    "            self.number_collisions += 1\n",
    "        return has_collided"
   ]
  },
  {
   "cell_type": "code",
   "execution_count": 9,
   "metadata": {
    "collapsed": true
   },
   "outputs": [],
   "source": [
    "def empirical_collision_data(num_insertions, table_size, population_size):\n",
    "    # array to store how many collisions at each step (array of arrays) \n",
    "    collisions_at_step = [0] * (num_insertions - 1)\n",
    "    \n",
    "    for sample in range(population_size):\n",
    "        hasher = RandomHasher(table_size)\n",
    "        hasher.insert_one() #no collisions at step zero\n",
    "        for step in range(num_insertions - 1):\n",
    "            if hasher.insert_one():\n",
    "                collisions_at_step[step] += 1\n",
    "    \n",
    "    x = range(1, num_insertions)\n",
    "    y = [collisions / float(population_size) for collisions in collisions_at_step]\n",
    "    return x, y\n",
    "    "
   ]
  },
  {
   "cell_type": "code",
   "execution_count": 10,
   "metadata": {
    "collapsed": true
   },
   "outputs": [],
   "source": [
    "number_insertions, probability = empirical_collision_data(40, 50, 100000)\n",
    "\n",
    "empirical_collisions_frame = pd.DataFrame({\"number_insertions\": number_insertions, \"probability\": probability})"
   ]
  },
  {
   "cell_type": "code",
   "execution_count": 11,
   "metadata": {
    "collapsed": true
   },
   "outputs": [],
   "source": [
    "chart = Chart(empirical_collisions_frame)\n",
    "chart.mark_line().mark_point().encode(x='number_insertions', y='probability')"
   ]
  },
  {
   "cell_type": "code",
   "execution_count": null,
   "metadata": {
    "collapsed": true
   },
   "outputs": [],
   "source": []
  },
  {
   "cell_type": "code",
   "execution_count": 30,
   "metadata": {
    "collapsed": true
   },
   "outputs": [],
   "source": [
    "theoretical_collisions_frame['Key'] = 'theoretical'\n",
    "empirical_collisions_frame['Key'] = 'empirical'\n",
    "\n",
    "compare_collisions = pd.concat([theoretical_collisions_frame, empirical_collisions_frame])"
   ]
  },
  {
   "cell_type": "code",
   "execution_count": 31,
   "metadata": {},
   "outputs": [
    {
     "name": "stdout",
     "output_type": "stream",
     "text": [
      "<class 'pandas.core.frame.DataFrame'>\n",
      "Int64Index: 78 entries, 0 to 38\n",
      "Data columns (total 3 columns):\n",
      "number_insertions    78 non-null int64\n",
      "probability          78 non-null float64\n",
      "Key                  78 non-null object\n",
      "dtypes: float64(1), int64(1), object(1)\n",
      "memory usage: 2.4+ KB\n"
     ]
    }
   ],
   "source": [
    "\n",
    "\n",
    "compare_collisions.info()"
   ]
  },
  {
   "cell_type": "code",
   "execution_count": 32,
   "metadata": {},
   "outputs": [
    {
     "data": {
      "text/html": [
       "<div class=\"vega-embed\" id=\"d1e64a39-e9e2-445c-acd2-a2c62508c7e2\"></div>\n",
       "\n",
       "<style>\n",
       ".vega-embed svg, .vega-embed canvas {\n",
       "  border: 1px dotted gray;\n",
       "}\n",
       "\n",
       ".vega-embed .vega-actions a {\n",
       "  margin-right: 6px;\n",
       "}\n",
       "</style>\n"
      ]
     },
     "metadata": {
      "jupyter-vega": "#d1e64a39-e9e2-445c-acd2-a2c62508c7e2"
     },
     "output_type": "display_data"
    },
    {
     "data": {
      "application/javascript": [
       "var spec = {\"data\": {\"values\": [{\"number_insertions\": 1, \"probability\": 0.02, \"Key\": \"theoretical\"}, {\"number_insertions\": 2, \"probability\": 0.0392156862745098, \"Key\": \"theoretical\"}, {\"number_insertions\": 3, \"probability\": 0.05769230769230769, \"Key\": \"theoretical\"}, {\"number_insertions\": 4, \"probability\": 0.07547169811320754, \"Key\": \"theoretical\"}, {\"number_insertions\": 5, \"probability\": 0.09259259259259262, \"Key\": \"theoretical\"}, {\"number_insertions\": 6, \"probability\": 0.10909090909090911, \"Key\": \"theoretical\"}, {\"number_insertions\": 7, \"probability\": 0.12499999999999999, \"Key\": \"theoretical\"}, {\"number_insertions\": 8, \"probability\": 0.14035087719298245, \"Key\": \"theoretical\"}, {\"number_insertions\": 9, \"probability\": 0.15517241379310348, \"Key\": \"theoretical\"}, {\"number_insertions\": 10, \"probability\": 0.16949152542372878, \"Key\": \"theoretical\"}, {\"number_insertions\": 11, \"probability\": 0.18333333333333332, \"Key\": \"theoretical\"}, {\"number_insertions\": 12, \"probability\": 0.19672131147540986, \"Key\": \"theoretical\"}, {\"number_insertions\": 13, \"probability\": 0.2096774193548387, \"Key\": \"theoretical\"}, {\"number_insertions\": 14, \"probability\": 0.22222222222222224, \"Key\": \"theoretical\"}, {\"number_insertions\": 15, \"probability\": 0.23437499999999997, \"Key\": \"theoretical\"}, {\"number_insertions\": 16, \"probability\": 0.24615384615384614, \"Key\": \"theoretical\"}, {\"number_insertions\": 17, \"probability\": 0.2575757575757575, \"Key\": \"theoretical\"}, {\"number_insertions\": 18, \"probability\": 0.26865671641791045, \"Key\": \"theoretical\"}, {\"number_insertions\": 19, \"probability\": 0.2794117647058823, \"Key\": \"theoretical\"}, {\"number_insertions\": 20, \"probability\": 0.2898550724637681, \"Key\": \"theoretical\"}, {\"number_insertions\": 21, \"probability\": 0.2999999999999999, \"Key\": \"theoretical\"}, {\"number_insertions\": 22, \"probability\": 0.30985915492957744, \"Key\": \"theoretical\"}, {\"number_insertions\": 23, \"probability\": 0.3194444444444446, \"Key\": \"theoretical\"}, {\"number_insertions\": 24, \"probability\": 0.32876712328767127, \"Key\": \"theoretical\"}, {\"number_insertions\": 25, \"probability\": 0.3378378378378379, \"Key\": \"theoretical\"}, {\"number_insertions\": 26, \"probability\": 0.34666666666666673, \"Key\": \"theoretical\"}, {\"number_insertions\": 27, \"probability\": 0.3552631578947369, \"Key\": \"theoretical\"}, {\"number_insertions\": 28, \"probability\": 0.3636363636363638, \"Key\": \"theoretical\"}, {\"number_insertions\": 29, \"probability\": 0.3717948717948719, \"Key\": \"theoretical\"}, {\"number_insertions\": 30, \"probability\": 0.37974683544303794, \"Key\": \"theoretical\"}, {\"number_insertions\": 31, \"probability\": 0.38749999999999984, \"Key\": \"theoretical\"}, {\"number_insertions\": 32, \"probability\": 0.39506172839506165, \"Key\": \"theoretical\"}, {\"number_insertions\": 33, \"probability\": 0.402439024390244, \"Key\": \"theoretical\"}, {\"number_insertions\": 34, \"probability\": 0.40963855421686746, \"Key\": \"theoretical\"}, {\"number_insertions\": 35, \"probability\": 0.4166666666666667, \"Key\": \"theoretical\"}, {\"number_insertions\": 36, \"probability\": 0.42352941176470593, \"Key\": \"theoretical\"}, {\"number_insertions\": 37, \"probability\": 0.43023255813953504, \"Key\": \"theoretical\"}, {\"number_insertions\": 38, \"probability\": 0.4367816091954024, \"Key\": \"theoretical\"}, {\"number_insertions\": 39, \"probability\": 0.44318181818181807, \"Key\": \"theoretical\"}, {\"number_insertions\": 1, \"probability\": 0.02031, \"Key\": \"empirical\"}, {\"number_insertions\": 2, \"probability\": 0.03949, \"Key\": \"empirical\"}, {\"number_insertions\": 3, \"probability\": 0.05904, \"Key\": \"empirical\"}, {\"number_insertions\": 4, \"probability\": 0.07846, \"Key\": \"empirical\"}, {\"number_insertions\": 5, \"probability\": 0.09466, \"Key\": \"empirical\"}, {\"number_insertions\": 6, \"probability\": 0.11253, \"Key\": \"empirical\"}, {\"number_insertions\": 7, \"probability\": 0.13204, \"Key\": \"empirical\"}, {\"number_insertions\": 8, \"probability\": 0.15126, \"Key\": \"empirical\"}, {\"number_insertions\": 9, \"probability\": 0.16525, \"Key\": \"empirical\"}, {\"number_insertions\": 10, \"probability\": 0.18292, \"Key\": \"empirical\"}, {\"number_insertions\": 11, \"probability\": 0.19783, \"Key\": \"empirical\"}, {\"number_insertions\": 12, \"probability\": 0.21549, \"Key\": \"empirical\"}, {\"number_insertions\": 13, \"probability\": 0.23351, \"Key\": \"empirical\"}, {\"number_insertions\": 14, \"probability\": 0.24918, \"Key\": \"empirical\"}, {\"number_insertions\": 15, \"probability\": 0.26016, \"Key\": \"empirical\"}, {\"number_insertions\": 16, \"probability\": 0.2731, \"Key\": \"empirical\"}, {\"number_insertions\": 17, \"probability\": 0.29141, \"Key\": \"empirical\"}, {\"number_insertions\": 18, \"probability\": 0.30369, \"Key\": \"empirical\"}, {\"number_insertions\": 19, \"probability\": 0.31713, \"Key\": \"empirical\"}, {\"number_insertions\": 20, \"probability\": 0.33198, \"Key\": \"empirical\"}, {\"number_insertions\": 21, \"probability\": 0.34581, \"Key\": \"empirical\"}, {\"number_insertions\": 22, \"probability\": 0.35955, \"Key\": \"empirical\"}, {\"number_insertions\": 23, \"probability\": 0.37041, \"Key\": \"empirical\"}, {\"number_insertions\": 24, \"probability\": 0.38552, \"Key\": \"empirical\"}, {\"number_insertions\": 25, \"probability\": 0.39806, \"Key\": \"empirical\"}, {\"number_insertions\": 26, \"probability\": 0.40659, \"Key\": \"empirical\"}, {\"number_insertions\": 27, \"probability\": 0.42288, \"Key\": \"empirical\"}, {\"number_insertions\": 28, \"probability\": 0.43278, \"Key\": \"empirical\"}, {\"number_insertions\": 29, \"probability\": 0.44431, \"Key\": \"empirical\"}, {\"number_insertions\": 30, \"probability\": 0.45459, \"Key\": \"empirical\"}, {\"number_insertions\": 31, \"probability\": 0.4672, \"Key\": \"empirical\"}, {\"number_insertions\": 32, \"probability\": 0.47395, \"Key\": \"empirical\"}, {\"number_insertions\": 33, \"probability\": 0.48383, \"Key\": \"empirical\"}, {\"number_insertions\": 34, \"probability\": 0.49667, \"Key\": \"empirical\"}, {\"number_insertions\": 35, \"probability\": 0.50742, \"Key\": \"empirical\"}, {\"number_insertions\": 36, \"probability\": 0.51844, \"Key\": \"empirical\"}, {\"number_insertions\": 37, \"probability\": 0.52406, \"Key\": \"empirical\"}, {\"number_insertions\": 38, \"probability\": 0.53416, \"Key\": \"empirical\"}, {\"number_insertions\": 39, \"probability\": 0.54502, \"Key\": \"empirical\"}]}, \"encoding\": {\"y\": {\"field\": \"probability\", \"type\": \"quantitative\"}, \"color\": {\"field\": \"Key\", \"type\": \"nominal\"}, \"x\": {\"field\": \"number_insertions\", \"type\": \"quantitative\"}}, \"config\": {\"cell\": {\"width\": 500, \"height\": 350}}, \"mark\": \"point\"};\n",
       "var selector = \"#d1e64a39-e9e2-445c-acd2-a2c62508c7e2\";\n",
       "var type = \"vega-lite\";\n",
       "\n",
       "var output_area = this;\n",
       "require(['nbextensions/jupyter-vega/index'], function(vega) {\n",
       "  vega.render(selector, spec, type, output_area);\n",
       "}, function (err) {\n",
       "  if (err.requireType !== 'scripterror') {\n",
       "    throw(err);\n",
       "  }\n",
       "});\n"
      ]
     },
     "metadata": {
      "jupyter-vega": "#d1e64a39-e9e2-445c-acd2-a2c62508c7e2"
     },
     "output_type": "display_data"
    },
    {
     "data": {
      "image/png": "[encoded data removed]"
     },
     "metadata": {
      "jupyter-vega": "#d1e64a39-e9e2-445c-acd2-a2c62508c7e2"
     },
     "output_type": "display_data"
    }
   ],
   "source": [
    "chart = Chart(compare_collisions)\n",
    "chart.mark_line().mark_point().encode(x='number_insertions', y='probability', color='Key')"
   ]
  },
  {
   "cell_type": "code",
   "execution_count": null,
   "metadata": {
    "collapsed": true
   },
   "outputs": [],
   "source": []
  },
  {
   "cell_type": "code",
   "execution_count": null,
   "metadata": {
    "collapsed": true
   },
   "outputs": [],
   "source": []
  },
  {
   "cell_type": "code",
   "execution_count": null,
   "metadata": {
    "collapsed": true
   },
   "outputs": [],
   "source": []
  }
 ],
 "metadata": {
  "kernelspec": {
   "display_name": "Python 2",
   "language": "python",
   "name": "python2"
  },
  "language_info": {
   "codemirror_mode": {
    "name": "ipython",
    "version": 2
   },
   "file_extension": ".py",
   "mimetype": "text/x-python",
   "name": "python",
   "nbconvert_exporter": "python",
   "pygments_lexer": "ipython2",
   "version": "2.7.12"
  }
 },
 "nbformat": 4,
 "nbformat_minor": 2
}
